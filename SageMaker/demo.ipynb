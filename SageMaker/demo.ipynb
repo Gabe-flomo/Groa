{
 "cells": [
  {
   "cell_type": "code",
   "execution_count": null,
   "metadata": {},
   "outputs": [],
   "source": [
    "!pip install gensim\n",
    "import gensim\n",
    "import numpy as np"
   ]
  },
  {
   "cell_type": "code",
   "execution_count": 17,
   "metadata": {},
   "outputs": [],
   "source": [
    "class ScoringService(object):\n",
    "    model = None                # Where we keep the model when it's loaded\n",
    "\n",
    "    @classmethod\n",
    "    def get_model(cls):\n",
    "        \"\"\"Get the model object for this instance, loading it if it's not already loaded.\"\"\"\n",
    "        if cls.model == None:\n",
    "            # load the gensim model\n",
    "            w2v_model = gensim.models.Word2Vec.load(\"word2vec_2.model\")\n",
    "            # keep only the normalized vectors.\n",
    "            # This saves memory but makes the model untrainable (read-only).\n",
    "            w2v_model.init_sims(replace=True)\n",
    "            # with open(os.path.join(model_path, 'decision-tree-model.pkl'), 'r') as inp:\n",
    "            #     cls.model = pickle.load(inp)\n",
    "            cls.model = w2v_model\n",
    "        return cls.model\n",
    "\n",
    "    @classmethod\n",
    "    def predict(cls, input):\n",
    "        \"\"\"For the input, do the predictions and return them.\n",
    "\n",
    "        Args:\n",
    "            input (a pandas dataframe): The data on which to do the predictions. There will be\n",
    "                one prediction per row in the dataframe\"\"\"\n",
    "\n",
    "        clf = cls.get_model()\n",
    "\n",
    "        def _aggregate_vectors(movies):\n",
    "            # get the vector average of the movies in the input\n",
    "            movie_vec = []\n",
    "            for i in movies:\n",
    "                try:\n",
    "                    movie_vec.append(clf[i])\n",
    "                except KeyError:\n",
    "                    continue\n",
    "            print(np.mean(movie_vec, axis=0))\n",
    "            return np.mean(movie_vec, axis=0)[0]\n",
    "\n",
    "        def _similar_movies(v, n = 6):\n",
    "            # extract most similar movies for the input vector\n",
    "            return clf.similar_by_vector(v, topn= n+1)[1:]\n",
    "\n",
    "        input = [[x[0].lstrip(\"0\")] for x in input] # remove leading zeroes\n",
    "        recs = _similar_movies(_aggregate_vectors(input))\n",
    "        return recs"
   ]
  },
  {
   "cell_type": "code",
   "execution_count": 18,
   "metadata": {},
   "outputs": [
    {
     "data": {
      "text/plain": [
       "<gensim.models.word2vec.Word2Vec at 0x7f275770e978>"
      ]
     },
     "execution_count": 18,
     "metadata": {},
     "output_type": "execute_result"
    }
   ],
   "source": [
    "model = ScoringService()\n",
    "model.get_model()"
   ]
  },
  {
   "cell_type": "code",
   "execution_count": 19,
   "metadata": {},
   "outputs": [],
   "source": [
    "# model.get_model()['110912']"
   ]
  },
  {
   "cell_type": "code",
   "execution_count": 23,
   "metadata": {},
   "outputs": [],
   "source": [
    "movies = [['116282'], ['2042568'], ['1019452'], ['1403865'], ['190590'], ['138524'], ['335245'], ['477348'], ['887883'], ['101410']]"
   ]
  },
  {
   "cell_type": "code",
   "execution_count": 24,
   "metadata": {},
   "outputs": [
    {
     "name": "stdout",
     "output_type": "stream",
     "text": [
      "[[ 1.98905244e-02  6.47159517e-02  2.27556601e-02  1.47032775e-02\n",
      "   1.81291372e-01  5.07929772e-02 -3.90544422e-02 -6.70838654e-02\n",
      "   1.61865614e-02  3.71484309e-02  7.22482353e-02  2.04833746e-02\n",
      "  -3.71096991e-02 -4.96266335e-02  2.77836658e-02 -3.18300985e-02\n",
      "  -4.82707620e-02 -3.56194600e-02  6.23947829e-02 -1.04187839e-02\n",
      "   1.26012623e-01  7.68777505e-02  9.33110937e-02 -9.77029279e-02\n",
      "  -6.96715200e-03  4.87725697e-02  1.81066498e-04  7.09821880e-02\n",
      "   3.94708961e-02  1.28469259e-01 -3.54401618e-02 -9.36877355e-02\n",
      "   1.68537274e-02 -1.43596549e-02  2.94621214e-02 -4.13775034e-02\n",
      "  -1.51085958e-01  1.63829401e-01  5.99360652e-02  3.24331820e-02\n",
      "  -8.74773264e-02 -7.46806711e-03  1.27705932e-01  6.73395097e-02\n",
      "  -1.65784061e-02  6.18338399e-03 -1.68638304e-02  8.31355006e-02\n",
      "   6.29530624e-02  2.14264821e-02  8.73977467e-02  2.45746002e-02\n",
      "   1.84437111e-02  2.47583184e-02 -2.91985907e-02  1.33994464e-02\n",
      "  -1.19390078e-01 -6.72250800e-03  1.27457529e-01  5.29603213e-02\n",
      "  -1.19532673e-02  1.23949118e-01  9.36885327e-02 -1.12975053e-01\n",
      "   5.93816973e-02  1.62657024e-03  1.13682598e-02 -4.82911952e-02\n",
      "  -8.34758058e-02  7.36400038e-02  1.83914416e-02 -9.22077224e-02\n",
      "  -7.86475614e-02  2.83517670e-02 -6.25691563e-02  1.34820655e-01\n",
      "   5.95401712e-02 -3.48552614e-02 -4.07844260e-02  1.16436435e-02\n",
      "   4.57079858e-02 -2.71577910e-02  1.57348379e-01  1.44203175e-02\n",
      "  -6.42006025e-02  9.40147936e-02 -6.76466972e-02 -1.07905678e-01\n",
      "   1.32518589e-01 -2.52046641e-02 -3.85430753e-02 -6.58385307e-02\n",
      "   3.17473002e-02  1.35071322e-01  1.00634784e-01  1.45711536e-02\n",
      "  -7.45057836e-02 -1.64847001e-02  4.84900549e-02 -1.14581056e-01]]\n"
     ]
    },
    {
     "name": "stderr",
     "output_type": "stream",
     "text": [
      "/home/ec2-user/anaconda3/envs/tensorflow_p36/lib/python3.6/site-packages/ipykernel/__main__.py:33: DeprecationWarning: Call to deprecated `__getitem__` (Method will be removed in 4.0.0, use self.wv.__getitem__() instead).\n",
      "/home/ec2-user/anaconda3/envs/tensorflow_p36/lib/python3.6/site-packages/ipykernel/__main__.py:41: DeprecationWarning: Call to deprecated `similar_by_vector` (Method will be removed in 4.0.0, use self.wv.similar_by_vector() instead).\n"
     ]
    },
    {
     "data": {
      "text/plain": [
       "[('482633', 0.9210887551307678),\n",
       " ('1328913', 0.9206011891365051),\n",
       " ('468442', 0.919946551322937),\n",
       " ('1109499', 0.9166485667228699),\n",
       " ('1121964', 0.9153555631637573),\n",
       " ('1326954', 0.9153527021408081)]"
      ]
     },
     "execution_count": 24,
     "metadata": {},
     "output_type": "execute_result"
    }
   ],
   "source": [
    "model.predict(movies)"
   ]
  },
  {
   "cell_type": "code",
   "execution_count": null,
   "metadata": {},
   "outputs": [],
   "source": []
  }
 ],
 "metadata": {
  "kernelspec": {
   "display_name": "conda_tensorflow_p36",
   "language": "python",
   "name": "conda_tensorflow_p36"
  },
  "language_info": {
   "codemirror_mode": {
    "name": "ipython",
    "version": 3
   },
   "file_extension": ".py",
   "mimetype": "text/x-python",
   "name": "python",
   "nbconvert_exporter": "python",
   "pygments_lexer": "ipython3",
   "version": "3.6.5"
  }
 },
 "nbformat": 4,
 "nbformat_minor": 4
}
