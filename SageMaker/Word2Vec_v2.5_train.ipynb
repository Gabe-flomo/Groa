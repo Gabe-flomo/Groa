{
 "cells": [
  {
   "cell_type": "markdown",
   "metadata": {},
   "source": [
    "# Word2Vec v2.5: \"Mistake Not\""
   ]
  },
  {
   "cell_type": "markdown",
   "metadata": {},
   "source": [
    "### Connect to Database"
   ]
  },
  {
   "cell_type": "code",
   "execution_count": 78,
   "metadata": {
    "colab": {
     "base_uri": "https://localhost:8080/",
     "height": 36
    },
    "colab_type": "code",
    "executionInfo": {
     "elapsed": 3001,
     "status": "ok",
     "timestamp": 1578954025043,
     "user": {
      "displayName": "Cooper Williams",
      "photoUrl": "https://lh3.googleusercontent.com/a-/AAuE7mCBd8BZPrGsSITPUox_UKbSmoT6f0h8PucNwTr60w=s64",
      "userId": "15095415326628117346"
     },
     "user_tz": 300
    },
    "id": "iQWJUpFjdlyj",
    "outputId": "f44ae211-ffec-4beb-930f-24240491e14d"
   },
   "outputs": [
    {
     "name": "stdout",
     "output_type": "stream",
     "text": [
      "Requirement already satisfied: psycopg2-binary in /home/ec2-user/.local/lib/python3.6/site-packages (2.8.4)\n",
      "\u001b[33mYou are using pip version 19.0.2, however version 19.3.1 is available.\n",
      "You should consider upgrading via the 'pip install --upgrade pip' command.\u001b[0m\n"
     ]
    }
   ],
   "source": [
    "! pip3 install psycopg2-binary --user\n",
    "import pandas as pd\n",
    "import psycopg2\n",
    "import numpy as np\n",
    "from getpass import getpass"
   ]
  },
  {
   "cell_type": "code",
   "execution_count": 79,
   "metadata": {
    "colab": {
     "base_uri": "https://localhost:8080/",
     "height": 36
    },
    "colab_type": "code",
    "executionInfo": {
     "elapsed": 5789,
     "status": "ok",
     "timestamp": 1578954032020,
     "user": {
      "displayName": "Cooper Williams",
      "photoUrl": "https://lh3.googleusercontent.com/a-/AAuE7mCBd8BZPrGsSITPUox_UKbSmoT6f0h8PucNwTr60w=s64",
      "userId": "15095415326628117346"
     },
     "user_tz": 300
    },
    "id": "at19RYvtdlyw",
    "outputId": "0be27d51-9199-483a-f79d-635dcb902f35"
   },
   "outputs": [
    {
     "name": "stdin",
     "output_type": "stream",
     "text": [
      " ················\n"
     ]
    }
   ],
   "source": [
    "# connect to database\n",
    "connection = psycopg2.connect(\n",
    "    database  = \"postgres\",\n",
    "    user      = \"postgres\",\n",
    "    password  = getpass(),\n",
    "    host      = \"movie-rec-scrape.cvslmiksgnix.us-east-1.rds.amazonaws.com\",\n",
    "    port      = '5432'\n",
    ")\n",
    "# Enter database password below and press Enter."
   ]
  },
  {
   "cell_type": "code",
   "execution_count": 80,
   "metadata": {
    "colab": {
     "base_uri": "https://localhost:8080/",
     "height": 36
    },
    "colab_type": "code",
    "executionInfo": {
     "elapsed": 2765,
     "status": "ok",
     "timestamp": 1578955267613,
     "user": {
      "displayName": "Cooper Williams",
      "photoUrl": "https://lh3.googleusercontent.com/a-/AAuE7mCBd8BZPrGsSITPUox_UKbSmoT6f0h8PucNwTr60w=s64",
      "userId": "15095415326628117346"
     },
     "user_tz": 300
    },
    "id": "d417YjdVdly9",
    "outputId": "bc2f5955-c858-40ca-8e71-f0e3d2410afd"
   },
   "outputs": [
    {
     "name": "stdout",
     "output_type": "stream",
     "text": [
      "Connected!\n"
     ]
    }
   ],
   "source": [
    "# create cursor that is used throughout\n",
    "try:\n",
    "    c = connection.cursor()\n",
    "    print(\"Connected!\")\n",
    "except:\n",
    "    print(\"Connection problem chief!\")"
   ]
  },
  {
   "cell_type": "markdown",
   "metadata": {},
   "source": [
    "### Prepare data and train.\n",
    "1. Get the list of reviewers whose reviews we want (about 17k)\n",
    "2. Get the dataframe of reviewers, movie IDs with positive reviews\n",
    "3. Inner join the above two dataframes.\n",
    "4. Run the list constructor on the join table to construct the training data.\n",
    "    - Training data is of this format: [['movieid1', 'movieid2', ...], ...]\n",
    "5. Train Word2Vec on the list of watch histories (which are themselves lists of movie IDs).\n",
    "6. Save the model."
   ]
  },
  {
   "cell_type": "code",
   "execution_count": 72,
   "metadata": {
    "colab": {},
    "colab_type": "code",
    "id": "tfmu_UdndlzG"
   },
   "outputs": [],
   "source": [
    "# Get reviewers with at least 10 positive reviews (rating 7-10 inclusive)\n",
    "c.execute(\"\"\"\n",
    "select username\n",
    "from reviews\n",
    "where user_rating between 7 and 10\n",
    "group by username\n",
    "having count(username) >= 10\n",
    "order by count(username) desc\n",
    "\"\"\")\n",
    "\n",
    "reviewers = c.fetchall()"
   ]
  },
  {
   "cell_type": "code",
   "execution_count": 74,
   "metadata": {
    "colab": {},
    "colab_type": "code",
    "id": "8A_os2zUdlzQ"
   },
   "outputs": [
    {
     "data": {
      "text/html": [
       "<div>\n",
       "<style scoped>\n",
       "    .dataframe tbody tr th:only-of-type {\n",
       "        vertical-align: middle;\n",
       "    }\n",
       "\n",
       "    .dataframe tbody tr th {\n",
       "        vertical-align: top;\n",
       "    }\n",
       "\n",
       "    .dataframe thead th {\n",
       "        text-align: right;\n",
       "    }\n",
       "</style>\n",
       "<table border=\"1\" class=\"dataframe\">\n",
       "  <thead>\n",
       "    <tr style=\"text-align: right;\">\n",
       "      <th></th>\n",
       "      <th>movieid</th>\n",
       "      <th>userid</th>\n",
       "    </tr>\n",
       "  </thead>\n",
       "  <tbody>\n",
       "    <tr>\n",
       "      <th>0</th>\n",
       "      <td>5493944</td>\n",
       "      <td>dmldc</td>\n",
       "    </tr>\n",
       "    <tr>\n",
       "      <th>1</th>\n",
       "      <td>0095016</td>\n",
       "      <td>immortal_saint1</td>\n",
       "    </tr>\n",
       "    <tr>\n",
       "      <th>2</th>\n",
       "      <td>5493944</td>\n",
       "      <td>vampyr_vashti</td>\n",
       "    </tr>\n",
       "    <tr>\n",
       "      <th>3</th>\n",
       "      <td>5493944</td>\n",
       "      <td>julieclowes</td>\n",
       "    </tr>\n",
       "    <tr>\n",
       "      <th>4</th>\n",
       "      <td>5493944</td>\n",
       "      <td>stephgonser</td>\n",
       "    </tr>\n",
       "  </tbody>\n",
       "</table>\n",
       "</div>"
      ],
      "text/plain": [
       "   movieid           userid\n",
       "0  5493944            dmldc\n",
       "1  0095016  immortal_saint1\n",
       "2  5493944    vampyr_vashti\n",
       "3  5493944      julieclowes\n",
       "4  5493944      stephgonser"
      ]
     },
     "execution_count": 74,
     "metadata": {},
     "output_type": "execute_result"
    }
   ],
   "source": [
    "# Get positive reviews from database\n",
    "c.execute(\"SELECT movie_id, username FROM reviews WHERE user_rating > 6\")\n",
    "result = c.fetchall()\n",
    "\n",
    "# create reviews dataframe\n",
    "df = pd.DataFrame(result, columns = ['movieid', 'userid'])\n",
    "df.head()"
   ]
  },
  {
   "cell_type": "code",
   "execution_count": 76,
   "metadata": {
    "colab": {
     "base_uri": "https://localhost:8080/",
     "height": 206
    },
    "colab_type": "code",
    "executionInfo": {
     "elapsed": 6880,
     "status": "ok",
     "timestamp": 1578955272419,
     "user": {
      "displayName": "Cooper Williams",
      "photoUrl": "https://lh3.googleusercontent.com/a-/AAuE7mCBd8BZPrGsSITPUox_UKbSmoT6f0h8PucNwTr60w=s64",
      "userId": "15095415326628117346"
     },
     "user_tz": 300
    },
    "id": "_47oo4s1dlzY",
    "outputId": "9f3542e2-2648-445d-a601-18820c9d9723"
   },
   "outputs": [],
   "source": [
    "# create reviewers dataframe\n",
    "df_reviewers = pd.DataFrame(reviewers, columns = ['userid'])"
   ]
  },
  {
   "cell_type": "code",
   "execution_count": 77,
   "metadata": {},
   "outputs": [
    {
     "data": {
      "text/plain": [
       "(904140, 2)"
      ]
     },
     "execution_count": 77,
     "metadata": {},
     "output_type": "execute_result"
    }
   ],
   "source": [
    "# merge to get only the IDs relevant to training\n",
    "df = df.merge(df_reviewers, how='inner', on='userid')\n",
    "df.shape"
   ]
  },
  {
   "cell_type": "code",
   "execution_count": 22,
   "metadata": {
    "colab": {
     "base_uri": "https://localhost:8080/",
     "height": 73
    },
    "colab_type": "code",
    "executionInfo": {
     "elapsed": 3472,
     "status": "ok",
     "timestamp": 1578955409541,
     "user": {
      "displayName": "Cooper Williams",
      "photoUrl": "https://lh3.googleusercontent.com/a-/AAuE7mCBd8BZPrGsSITPUox_UKbSmoT6f0h8PucNwTr60w=s64",
      "userId": "15095415326628117346"
     },
     "user_tz": 300
    },
    "id": "z2OBA-xqdl0m",
    "outputId": "faa65cc8-cd3d-4f08-fb57-5099851a509c"
   },
   "outputs": [
    {
     "name": "stdout",
     "output_type": "stream",
     "text": [
      "Loaded plugins: dkms-build-requires, priorities, update-motd, upgrade-helper,\n",
      "              : versionlock\n",
      "You need to be root to perform this command.\n",
      "Loaded plugins: dkms-build-requires, priorities, update-motd, upgrade-helper,\n",
      "              : versionlock\n",
      "You need to be root to perform this command.\n",
      "Python 3.6.5 :: Anaconda, Inc.\n"
     ]
    }
   ],
   "source": [
    "# ! sudo su\n",
    "# ! yum update -y\n",
    "# ! yum -y install python-pip\n",
    "# ! python -V"
   ]
  },
  {
   "cell_type": "code",
   "execution_count": 23,
   "metadata": {
    "colab": {
     "base_uri": "https://localhost:8080/",
     "height": 36
    },
    "colab_type": "code",
    "executionInfo": {
     "elapsed": 3298,
     "status": "ok",
     "timestamp": 1578955411283,
     "user": {
      "displayName": "Cooper Williams",
      "photoUrl": "https://lh3.googleusercontent.com/a-/AAuE7mCBd8BZPrGsSITPUox_UKbSmoT6f0h8PucNwTr60w=s64",
      "userId": "15095415326628117346"
     },
     "user_tz": 300
    },
    "id": "a8DITE9wdl0q",
    "outputId": "79c68333-c722-48a2-ee72-49aa5f1c7a15"
   },
   "outputs": [
    {
     "name": "stdout",
     "output_type": "stream",
     "text": [
      "/home/ec2-user/anaconda3/envs/python3/bin/pip\n"
     ]
    }
   ],
   "source": [
    "# ! which pip"
   ]
  },
  {
   "cell_type": "markdown",
   "metadata": {},
   "source": [
    "# Install gensim"
   ]
  },
  {
   "cell_type": "code",
   "execution_count": 4,
   "metadata": {},
   "outputs": [
    {
     "name": "stdout",
     "output_type": "stream",
     "text": [
      "Requirement already satisfied: tqdm in /home/ec2-user/anaconda3/envs/python3/lib/python3.6/site-packages (4.41.1)\n",
      "\u001b[33mYou are using pip version 10.0.1, however version 19.3.1 is available.\n",
      "You should consider upgrading via the 'pip install --upgrade pip' command.\u001b[0m\n",
      "Requirement already satisfied: gensim in /home/ec2-user/anaconda3/envs/python3/lib/python3.6/site-packages (3.8.1)\n",
      "Requirement already satisfied: six>=1.5.0 in /home/ec2-user/anaconda3/envs/python3/lib/python3.6/site-packages (from gensim) (1.11.0)\n",
      "Requirement already satisfied: smart-open>=1.8.1 in /home/ec2-user/anaconda3/envs/python3/lib/python3.6/site-packages (from gensim) (1.9.0)\n",
      "Requirement already satisfied: numpy>=1.11.3 in /home/ec2-user/anaconda3/envs/python3/lib/python3.6/site-packages (from gensim) (1.14.3)\n",
      "Requirement already satisfied: scipy>=0.18.1 in /home/ec2-user/anaconda3/envs/python3/lib/python3.6/site-packages (from gensim) (1.1.0)\n",
      "Requirement already satisfied: boto>=2.32 in /home/ec2-user/anaconda3/envs/python3/lib/python3.6/site-packages (from smart-open>=1.8.1->gensim) (2.48.0)\n",
      "Requirement already satisfied: boto3 in /home/ec2-user/anaconda3/envs/python3/lib/python3.6/site-packages (from smart-open>=1.8.1->gensim) (1.10.19)\n",
      "Requirement already satisfied: requests in /home/ec2-user/anaconda3/envs/python3/lib/python3.6/site-packages (from smart-open>=1.8.1->gensim) (2.20.0)\n",
      "Requirement already satisfied: botocore<1.14.0,>=1.13.19 in /home/ec2-user/anaconda3/envs/python3/lib/python3.6/site-packages (from boto3->smart-open>=1.8.1->gensim) (1.13.19)\n",
      "Requirement already satisfied: s3transfer<0.3.0,>=0.2.0 in /home/ec2-user/anaconda3/envs/python3/lib/python3.6/site-packages (from boto3->smart-open>=1.8.1->gensim) (0.2.1)\n",
      "Requirement already satisfied: jmespath<1.0.0,>=0.7.1 in /home/ec2-user/anaconda3/envs/python3/lib/python3.6/site-packages (from boto3->smart-open>=1.8.1->gensim) (0.9.4)\n",
      "Requirement already satisfied: chardet<3.1.0,>=3.0.2 in /home/ec2-user/anaconda3/envs/python3/lib/python3.6/site-packages (from requests->smart-open>=1.8.1->gensim) (3.0.4)\n",
      "Requirement already satisfied: urllib3<1.25,>=1.21.1 in /home/ec2-user/anaconda3/envs/python3/lib/python3.6/site-packages (from requests->smart-open>=1.8.1->gensim) (1.23)\n",
      "Requirement already satisfied: certifi>=2017.4.17 in /home/ec2-user/anaconda3/envs/python3/lib/python3.6/site-packages (from requests->smart-open>=1.8.1->gensim) (2019.9.11)\n",
      "Requirement already satisfied: idna<2.8,>=2.5 in /home/ec2-user/anaconda3/envs/python3/lib/python3.6/site-packages (from requests->smart-open>=1.8.1->gensim) (2.6)\n",
      "Requirement already satisfied: python-dateutil<2.8.1,>=2.1; python_version >= \"2.7\" in /home/ec2-user/anaconda3/envs/python3/lib/python3.6/site-packages (from botocore<1.14.0,>=1.13.19->boto3->smart-open>=1.8.1->gensim) (2.7.3)\n",
      "Requirement already satisfied: docutils<0.16,>=0.10 in /home/ec2-user/anaconda3/envs/python3/lib/python3.6/site-packages (from botocore<1.14.0,>=1.13.19->boto3->smart-open>=1.8.1->gensim) (0.14)\n",
      "\u001b[33mYou are using pip version 10.0.1, however version 19.3.1 is available.\n",
      "You should consider upgrading via the 'pip install --upgrade pip' command.\u001b[0m\n"
     ]
    }
   ],
   "source": [
    "! python -m pip install tqdm\n",
    "# ! python -c 'import tqdm'\n",
    "! python -m pip install gensim"
   ]
  },
  {
   "cell_type": "code",
   "execution_count": 82,
   "metadata": {
    "colab": {
     "base_uri": "https://localhost:8080/",
     "height": 646
    },
    "colab_type": "code",
    "executionInfo": {
     "elapsed": 13545,
     "status": "ok",
     "timestamp": 1578955421790,
     "user": {
      "displayName": "Cooper Williams",
      "photoUrl": "https://lh3.googleusercontent.com/a-/AAuE7mCBd8BZPrGsSITPUox_UKbSmoT6f0h8PucNwTr60w=s64",
      "userId": "15095415326628117346"
     },
     "user_tz": 300
    },
    "id": "ZvEmewUhdl05",
    "outputId": "3e8068d2-0604-4d06-9dc0-47989994f120"
   },
   "outputs": [],
   "source": [
    "import random\n",
    "from tqdm import tqdm\n",
    "from gensim.models import Word2Vec \n",
    "import matplotlib.pyplot as plt\n",
    "%matplotlib inline\n",
    "\n",
    "import warnings;\n",
    "warnings.filterwarnings('ignore')"
   ]
  },
  {
   "cell_type": "code",
   "execution_count": 94,
   "metadata": {
    "colab": {},
    "colab_type": "code",
    "id": "smscgWxjdl0_"
   },
   "outputs": [
    {
     "name": "stderr",
     "output_type": "stream",
     "text": [
      "100%|██████████| 17812/17812 [44:07<00:00,  6.73it/s]\n"
     ]
    },
    {
     "data": {
      "text/plain": [
       "17812"
      ]
     },
     "execution_count": 94,
     "metadata": {},
     "output_type": "execute_result"
    }
   ],
   "source": [
    "# list to capture watch history of the users\n",
    "watched_train = []\n",
    "\n",
    "# populate the list with the movie codes\n",
    "for i in tqdm(reviewers):\n",
    "    temp = df[df[\"userid\"] == i[0]][\"movieid\"].tolist()\n",
    "    watched_train.append(temp)\n",
    "    \n",
    "len(watched_train)"
   ]
  },
  {
   "cell_type": "code",
   "execution_count": 95,
   "metadata": {},
   "outputs": [],
   "source": [
    "# save the model for later\n",
    "import pickle\n",
    "pickle.dump(watched_train, open('watched_train.sav', 'wb'))"
   ]
  },
  {
   "cell_type": "code",
   "execution_count": 166,
   "metadata": {},
   "outputs": [],
   "source": [
    "# #save the model in protocol 2 so it can be opened in python 2.7\n",
    "# import pickle\n",
    "# temp = pickle.load(open('watched_train.sav', 'rb'))\n",
    "# pickle.dump(temp, open('watched_train.sav', 'wb'), protocol=2)"
   ]
  },
  {
   "cell_type": "markdown",
   "metadata": {},
   "source": [
    "### Train the Model\n",
    "\n",
    "**Important:** The previous model was trained on movie IDs that were inside lists of length 1, with watch histories being lists of lists.\n",
    "\n",
    "This model eschews the inner lists. Each watch history is simply a list of strings."
   ]
  },
  {
   "cell_type": "code",
   "execution_count": 96,
   "metadata": {
    "colab": {},
    "colab_type": "code",
    "id": "gdGxB2_gdl1S",
    "outputId": "b367f0ff-8e54-4c9b-dba5-fd3287d4e413"
   },
   "outputs": [
    {
     "data": {
      "text/plain": [
       "(8222420, 9041400)"
      ]
     },
     "execution_count": 96,
     "metadata": {},
     "output_type": "execute_result"
    }
   ],
   "source": [
    "# train word2vec model\n",
    "model = Word2Vec(window = 10, sg = 1, hs = 0,\n",
    "                 negative = 10, # for negative sampling\n",
    "                 alpha=0.03, min_alpha=0.0007,\n",
    "                 seed = 14)\n",
    "\n",
    "model.build_vocab(watched_train, progress_per=200)\n",
    "\n",
    "model.train(watched_train, total_examples = model.corpus_count, \n",
    "            epochs=10, report_delay=1)"
   ]
  },
  {
   "cell_type": "code",
   "execution_count": 97,
   "metadata": {
    "colab": {},
    "colab_type": "code",
    "id": "-sWPKYgTdl1W"
   },
   "outputs": [],
   "source": [
    "# save word2vec model\n",
    "model.save(\"w2v_mistakenot.model\")"
   ]
  },
  {
   "cell_type": "markdown",
   "metadata": {},
   "source": [
    "### Test the model"
   ]
  },
  {
   "cell_type": "code",
   "execution_count": 81,
   "metadata": {
    "colab": {},
    "colab_type": "code",
    "id": "vSeGqA97dl1Z"
   },
   "outputs": [],
   "source": [
    "# load model\n",
    "import gensim\n",
    "model = gensim.models.Word2Vec.load(\"w2v_mistakenot.model\")"
   ]
  },
  {
   "cell_type": "code",
   "execution_count": 82,
   "metadata": {
    "colab": {},
    "colab_type": "code",
    "id": "tFH5khHrdl1d"
   },
   "outputs": [],
   "source": [
    "# prunes the model, making it faster but unable to train any more.\n",
    "model.init_sims(replace=True)"
   ]
  },
  {
   "cell_type": "code",
   "execution_count": 83,
   "metadata": {
    "colab": {},
    "colab_type": "code",
    "id": "jsHJnjXtdl1g"
   },
   "outputs": [
    {
     "name": "stdout",
     "output_type": "stream",
     "text": [
      "Word2Vec(vocab=24784, size=100, alpha=0.03)\n"
     ]
    }
   ],
   "source": [
    "print(model)"
   ]
  },
  {
   "cell_type": "code",
   "execution_count": 84,
   "metadata": {
    "colab": {},
    "colab_type": "code",
    "id": "izJD5tDVdl1k",
    "outputId": "e628d91e-1b25-46d6-923b-e4004a0050e3"
   },
   "outputs": [
    {
     "data": {
      "text/plain": [
       "(24784, 100)"
      ]
     },
     "execution_count": 84,
     "metadata": {},
     "output_type": "execute_result"
    }
   ],
   "source": [
    "# extract all vectors\n",
    "X = model[model.wv.vocab]\n",
    "\n",
    "X.shape"
   ]
  },
  {
   "cell_type": "code",
   "execution_count": 86,
   "metadata": {},
   "outputs": [],
   "source": [
    "# IDs are words in the model, and callable as such.\n",
    "# model['0110912']"
   ]
  },
  {
   "cell_type": "code",
   "execution_count": 87,
   "metadata": {},
   "outputs": [],
   "source": [
    "# def get_title(id):\n",
    "#     \"\"\"Takes an id string and returns the movie title.\"\"\"\n",
    "    \n",
    "#     try:\n",
    "#         c.execute(f\"\"\"\n",
    "#         select primary_title, start_year\n",
    "#         from movies\n",
    "#         where movie_id = '{id}'\"\"\")\n",
    "#     except:\n",
    "#         return f\"Movie title unknown. ID:{id}\"\n",
    "    \n",
    "#     t = c.fetchone()\n",
    "#     title = tuple([t[0], t[1], f\"https://www.imdb.com/title/tt{id}/\"])\n",
    "#     return title\n",
    "    \n",
    "# def predict(model, input, num_recs=6):\n",
    "#         \"\"\"For the input, do the predictions and return them.\n",
    "\n",
    "#         Args:\n",
    "#             model: the word2vec model object.\n",
    "#             input: a list of movie IDs.\n",
    "#             num_recs: the number of recommendations to return.\n",
    "#         \"\"\"\n",
    "\n",
    "#         def _aggregate_vectors(movies):\n",
    "#             # get the vector average of the movies in the input.\n",
    "#             # discard unrecognized IDs.\n",
    "#             movie_vec = []\n",
    "#             for i in movies:\n",
    "#                 try:\n",
    "#                     movie_vec.append(model[i])\n",
    "#                 except KeyError:\n",
    "#                     continue\n",
    "#             return np.mean(movie_vec, axis=0)\n",
    "\n",
    "#         def _similar_movies(v, n):\n",
    "#             # extract most similar movies for the input vector\n",
    "#             return model.similar_by_vector(v, topn= n+1)[1:]\n",
    "        \n",
    "#         def _remove_dupes(recs):\n",
    "#             # remove any recommendations that were in the input\n",
    "#             return [x for x in recs if x not in input]\n",
    "        \n",
    "        \n",
    "        \n",
    "#         # aggregate input and find similar vectors.\n",
    "#         recs = _similar_movies(_aggregate_vectors(input), num_recs)\n",
    "#         # get titles\n",
    "#         recs = [get_title(y[0]) for y in recs] \n",
    "#         return recs"
   ]
  },
  {
   "cell_type": "code",
   "execution_count": 124,
   "metadata": {},
   "outputs": [],
   "source": [
    "class ScoringService(object):\n",
    "    model = None                # Where we keep the model when it's loaded\n",
    "\n",
    "    @classmethod\n",
    "    def get_model(cls):\n",
    "        \"\"\"Get the model object for this instance, loading it if it's not already loaded.\"\"\"\n",
    "        if cls.model == None:\n",
    "            # load the gensim model\n",
    "            w2v_model = gensim.models.Word2Vec.load(\"w2v_mistakenot.model\")\n",
    "            # keep only the normalized vectors.\n",
    "            # This saves memory but makes the model untrainable (read-only).\n",
    "            w2v_model.init_sims(replace=True)\n",
    "            # with open(os.path.join(model_path, 'decision-tree-model.pkl'), 'r') as inp:\n",
    "            #     cls.model = pickle.load(inp)\n",
    "            cls.model = w2v_model\n",
    "        return cls.model\n",
    "\n",
    "    @classmethod\n",
    "    def predict(cls, input, n=20):\n",
    "        \"\"\"For the input, do the predictions and return them.\n",
    "\n",
    "        Args:\n",
    "            input (a pandas dataframe): The data on which to do the predictions. There will be\n",
    "                one prediction per row in the dataframe\"\"\"\n",
    "\n",
    "        clf = cls.get_model()\n",
    "\n",
    "        def _aggregate_vectors(movies):\n",
    "            # get the vector average of the movies in the input\n",
    "            movie_vec = []\n",
    "            for i in movies:\n",
    "                try:\n",
    "                    movie_vec.append(clf[i])\n",
    "                except KeyError:\n",
    "                    continue\n",
    "            return np.mean(movie_vec, axis=0)\n",
    "\n",
    "        def _similar_movies(v, n = 6):\n",
    "            # extract most similar movies for the input vector\n",
    "            return clf.similar_by_vector(v, topn= n+1)[1:]\n",
    "            \n",
    "        def _remove_dupes(recs):\n",
    "            # remove any recommendations that were in the input\n",
    "            return [x for x in recs if x not in input]\n",
    "\n",
    "        def _get_info(id):\n",
    "            \"\"\"Takes an id string and returns the movie info with a url.\"\"\"\n",
    "            try:\n",
    "                c.execute(f\"\"\"\n",
    "                select primary_title, start_year\n",
    "                from movies\n",
    "                where movie_id = '{id[0]}'\"\"\")\n",
    "            except:\n",
    "                return f\"Movie title unknown. ID:{id}\"\n",
    "\n",
    "            t = c.fetchone()\n",
    "            title = tuple([t[0], t[1], f\"https://www.imdb.com/title/tt{id[0]}/\"])\n",
    "            return title\n",
    "        \n",
    "        input = [x for x in input] # remove leading zeroes\n",
    "        recs = _remove_dupes(_similar_movies(_aggregate_vectors(input), n=n))\n",
    "        recs = [_get_info(x) for x in recs]\n",
    "        return recs"
   ]
  },
  {
   "cell_type": "code",
   "execution_count": 125,
   "metadata": {},
   "outputs": [],
   "source": [
    "# test cases\n",
    "\n",
    "# A list of some Coen Bros movies.\n",
    "coen_bros = ['116282', '2042568', '1019452', \n",
    "             '1403865', '190590', '138524', \n",
    "             '335245', '477348', '887883', '101410']\n",
    "\n",
    "# Data scientist's recent watches.\n",
    "cooper_recent = ['0053285', '0038650', '0046022', \n",
    "                 '4520988', '1605783', '6751668', \n",
    "                 '0083791', '0115685', '0051459', \n",
    "                 '8772262', '0061184', '0041959',\n",
    "                 '7775622']\n",
    "\n",
    "# dirkh public letterboxd recent watches.\n",
    "dirkh = ['7975244', '8106534', '1489887', \n",
    "         '1302006', '7286456', '6751668', \n",
    "         '8364368', '2283362', '6146586', \n",
    "         '2194499', '7131622', '6857112']\n",
    "\n",
    "# Marvin watches\n",
    "marvin = ['7286456', '0816692', '2543164', '2935510', \n",
    "          '2798920', '0468569', '5013056', '1375666', \n",
    "          '3659388', '0470752', '0266915', '0092675', \n",
    "          '0137523', '0133093', '1285016']  \n",
    "\n",
    "# Gabe watches\n",
    "gabe = ['6292852','0816692','2737304','3748528',\n",
    "        '3065204','4154796','1536537','1825683',\n",
    "        '1375666','8236336','2488496','1772341',\n",
    "        '0317705','6857112','5052448']\n",
    "\n",
    "# Eric watches\n",
    "eric = ['2974050','1595842','0118539','0093405',\n",
    "        '3216920','1256535','5612742','3120314',\n",
    "        '1893371','0046248','0058548','0199481',\n",
    "        '2296777','0071198','0077834']\n",
    "\n",
    "chuckie = ['4263482',\n",
    "'0084787',\n",
    "'3286052',\n",
    "'5715874',\n",
    "'1172994',\n",
    "'4805316',\n",
    "'3139756',\n",
    "'8772262',\n",
    "'7784604',\n",
    "'1034415',]\n",
    "\n",
    "harlan = ['1065073','5052448','0470752','5688932','1853728','1596363','0432283','6412452','4633694','9495224','0443453','0063823',\n",
    "          '0066921','0405296','1130884','1179933','0120630','0268126','0137523','0374900','8772262','0116996','0107290','7339248']\n",
    "\n",
    "ryan = ['0166924','2866360','0050825','2798920','3416742','0060827','1817273','0338013','0482571','5715874','2316411','4550098']\n",
    "\n",
    "karyn = ['4425200','0464141','1465522','0093779','0099810','0076759','3748528','6763664','0317740','2798920','0096283','0258463','0118799','0058092','0107290','0045152','0106364']\n",
    "\n",
    "richard = ['0074119','0064115','0070735','0080474','0061512','0067774','0057115','0070511','0081283',\n",
    "           '0065126','0068421','0078227','0079100','0078966','0081696','0082085','0072431','0075784',\n",
    "           '0093640','0098051','0094226','0097576','0099810','0081633','0080761','0077975','0085244','0095159','0101969']\n",
    "\n",
    "joe = ['6335734','0291350','0113568','0208502','0169858','0095327','0097814','0983213','0094625','7089878']\n",
    "\n",
    "lena = ['1990314','3236120','1816518','0241527','0097757','0268978','0467406','2543164','2245084','3741834']\n",
    "\n",
    "wade = ['0118665','0270846','0288441','2287250','2287238','8668804','9448868','1702443','1608290','5519340']"
   ]
  },
  {
   "cell_type": "code",
   "execution_count": 126,
   "metadata": {},
   "outputs": [],
   "source": [
    "s = ScoringService()"
   ]
  },
  {
   "cell_type": "code",
   "execution_count": 127,
   "metadata": {},
   "outputs": [
    {
     "name": "stdout",
     "output_type": "stream",
     "text": [
      "('8266310', 0.7212890386581421)\n",
      "('7775622', 0.7211458683013916)\n",
      "('7472352', 0.719699501991272)\n",
      "('7653254', 0.7180582284927368)\n",
      "('8637428', 0.716407299041748)\n",
      "('8613070', 0.715118408203125)\n",
      "('7715070', 0.7149782776832581)\n",
      "('5083738', 0.7149302959442139)\n",
      "('8579674', 0.7147093415260315)\n",
      "('7046974', 0.7134156227111816)\n",
      "('5104604', 0.7097740173339844)\n",
      "('7424200', 0.7097126245498657)\n",
      "('7975244', 0.7094463109970093)\n",
      "('4729430', 0.7093826532363892)\n",
      "('7745068', 0.708999514579773)\n",
      "('8092252', 0.708191454410553)\n",
      "('7616974', 0.70567387342453)\n",
      "('5117222', 0.7053700089454651)\n",
      "('8151874', 0.7047182321548462)\n",
      "('5117428', 0.7033519148826599)\n"
     ]
    },
    {
     "data": {
      "text/plain": [
       "[('Blinded by the Light', 2019, 'https://www.imdb.com/title/tt8266310/'),\n",
       " ('Free Solo', 2018, 'https://www.imdb.com/title/tt7775622/'),\n",
       " ('Shirkers', 2018, 'https://www.imdb.com/title/tt7472352/'),\n",
       " ('Marriage Story', 2019, 'https://www.imdb.com/title/tt7653254/'),\n",
       " ('The Farewell', 2019, 'https://www.imdb.com/title/tt8637428/'),\n",
       " ('Portrait of a Lady on Fire', 2019, 'https://www.imdb.com/title/tt8613070/'),\n",
       " ('Horrible Histories: The Movie - Rotten Romans',\n",
       "  2019,\n",
       "  'https://www.imdb.com/title/tt7715070/'),\n",
       " ('The Favourite', 2018, 'https://www.imdb.com/title/tt5083738/'),\n",
       " ('1917', 2019, 'https://www.imdb.com/title/tt8579674/'),\n",
       " ('Swing Kids', 2018, 'https://www.imdb.com/title/tt7046974/'),\n",
       " ('Isle of Dogs', 2018, 'https://www.imdb.com/title/tt5104604/'),\n",
       " ('Teen Titans GO! to the Movies',\n",
       "  2018,\n",
       "  'https://www.imdb.com/title/tt7424200/'),\n",
       " ('Jumanji: The Next Level', 2019, 'https://www.imdb.com/title/tt7975244/'),\n",
       " ('Klaus', 2019, 'https://www.imdb.com/title/tt4729430/'),\n",
       " ('My Hero Academia: Two Heroes',\n",
       "  2018,\n",
       "  'https://www.imdb.com/title/tt7745068/'),\n",
       " ('Be With You', 2018, 'https://www.imdb.com/title/tt8092252/'),\n",
       " ('Prosecuting Evil', 2018, 'https://www.imdb.com/title/tt7616974/'),\n",
       " ('Notes on Blindness', 2016, 'https://www.imdb.com/title/tt5117222/'),\n",
       " ('Honey Boy', 2019, 'https://www.imdb.com/title/tt8151874/'),\n",
       " ('Wild Rose', 2018, 'https://www.imdb.com/title/tt5117428/')]"
      ]
     },
     "execution_count": 127,
     "metadata": {},
     "output_type": "execute_result"
    }
   ],
   "source": [
    "s.predict(input=cooper_recent)"
   ]
  },
  {
   "cell_type": "code",
   "execution_count": null,
   "metadata": {},
   "outputs": [],
   "source": []
  },
  {
   "cell_type": "code",
   "execution_count": null,
   "metadata": {},
   "outputs": [],
   "source": []
  }
 ],
 "metadata": {
  "colab": {
   "collapsed_sections": [],
   "name": "Word2VecWatchHistory_3_filter.ipynb",
   "provenance": [
    {
     "file_id": "1wKOz0h5GIZN3G-qdUfgCEuwJLScSixpN",
     "timestamp": 1578946551815
    }
   ]
  },
  "kernelspec": {
   "display_name": "conda_python3",
   "language": "python",
   "name": "conda_python3"
  },
  "language_info": {
   "codemirror_mode": {
    "name": "ipython",
    "version": 3
   },
   "file_extension": ".py",
   "mimetype": "text/x-python",
   "name": "python",
   "nbconvert_exporter": "python",
   "pygments_lexer": "ipython3",
   "version": "3.6.5"
  }
 },
 "nbformat": 4,
 "nbformat_minor": 4
}
